{
 "cells": [
  {
   "cell_type": "code",
   "execution_count": 17,
   "metadata": {},
   "outputs": [],
   "source": [
    "# program(with class concept) to find area of triangle\n",
    "\n",
    "class polygon:\n",
    "    def __init__(self,a,b,c):\n",
    "        self.side1 = a\n",
    "        self.side2 = b\n",
    "        self.side3 = c                          # a,b,c are sides of triangle\n",
    "          \n",
    "class triangle(polygon):\n",
    "    \n",
    "    def __init__(self,*arg):\n",
    "        super(triangle,self).__init__(*arg)\n",
    "          \n",
    "    def area(self):\n",
    "        s = (self.side1 + self.side2 + self.side3)/2                   # s is semi-perimeter of triangle\n",
    "        return \"Area of triangle is {}\".format((s*(s-self.side1)*(s-self.side2)*(s-self.side3))**0.5)\n",
    "    \n",
    "       "
   ]
  },
  {
   "cell_type": "code",
   "execution_count": 21,
   "metadata": {},
   "outputs": [
    {
     "name": "stdout",
     "output_type": "stream",
     "text": [
      "Area of triangle is 6.0\n"
     ]
    }
   ],
   "source": [
    "x = triangle(3,4,5)\n",
    "print(x.area())"
   ]
  },
  {
   "cell_type": "code",
   "execution_count": 23,
   "metadata": {},
   "outputs": [],
   "source": [
    "# program to  write a function filter_long_words() that takes a list of words and an integer n and \n",
    "# returns the list of words that are longer than n\n",
    "\n",
    "def filter_long_words(word_list,n):\n",
    "    filtered_list = []\n",
    "    for i in word_list:\n",
    "        if len(i) > n:\n",
    "            filtered_list.append(i)\n",
    "    return filtered_list"
   ]
  },
  {
   "cell_type": "code",
   "execution_count": 24,
   "metadata": {},
   "outputs": [
    {
     "data": {
      "text/plain": [
       "['sankalp', 'sanket', 'aishwarya']"
      ]
     },
     "execution_count": 24,
     "metadata": {},
     "output_type": "execute_result"
    }
   ],
   "source": [
    "a = ['sankalp','sanket','aishwarya','ketan','ast','sst']\n",
    "filter_long_words(a,5)"
   ]
  },
  {
   "cell_type": "code",
   "execution_count": 25,
   "metadata": {},
   "outputs": [],
   "source": [
    "# program using function concept that maps list of words into a list of integers representing \n",
    "# the lengths of the corresponding words\n",
    "\n",
    "def word_to_length(list1):\n",
    "    result = []\n",
    "    for i in list1:\n",
    "        result.append(len(i))\n",
    "    return result"
   ]
  },
  {
   "cell_type": "code",
   "execution_count": 26,
   "metadata": {},
   "outputs": [
    {
     "data": {
      "text/plain": [
       "[7, 6, 9, 5, 3, 3]"
      ]
     },
     "execution_count": 26,
     "metadata": {},
     "output_type": "execute_result"
    }
   ],
   "source": [
    "word_to_length(a)"
   ]
  },
  {
   "cell_type": "code",
   "execution_count": 28,
   "metadata": {},
   "outputs": [
    {
     "data": {
      "text/plain": [
       "[3, 3, 4, 9, 7]"
      ]
     },
     "execution_count": 28,
     "metadata": {},
     "output_type": "execute_result"
    }
   ],
   "source": [
    "z = ['abc','ccd','cccw','dkvbdadfh','wruighr']\n",
    "word_to_length(z)"
   ]
  },
  {
   "cell_type": "code",
   "execution_count": 31,
   "metadata": {},
   "outputs": [],
   "source": [
    "# function which takes a character (i.e. a string of length 1) and returns True if it is a vowel, False otherwise.\n",
    "\n",
    "def check_vowel(x):\n",
    "    return x.lower() in ['a','e','i','o','u']"
   ]
  },
  {
   "cell_type": "code",
   "execution_count": 34,
   "metadata": {},
   "outputs": [
    {
     "data": {
      "text/plain": [
       "False"
      ]
     },
     "execution_count": 34,
     "metadata": {},
     "output_type": "execute_result"
    }
   ],
   "source": [
    "check_vowel(\"S\")"
   ]
  },
  {
   "cell_type": "code",
   "execution_count": 35,
   "metadata": {},
   "outputs": [
    {
     "data": {
      "text/plain": [
       "True"
      ]
     },
     "execution_count": 35,
     "metadata": {},
     "output_type": "execute_result"
    }
   ],
   "source": [
    "check_vowel(\"a\")"
   ]
  },
  {
   "cell_type": "code",
   "execution_count": null,
   "metadata": {},
   "outputs": [],
   "source": []
  }
 ],
 "metadata": {
  "kernelspec": {
   "display_name": "Python 3",
   "language": "python",
   "name": "python3"
  },
  "language_info": {
   "codemirror_mode": {
    "name": "ipython",
    "version": 3
   },
   "file_extension": ".py",
   "mimetype": "text/x-python",
   "name": "python",
   "nbconvert_exporter": "python",
   "pygments_lexer": "ipython3",
   "version": "3.7.6"
  }
 },
 "nbformat": 4,
 "nbformat_minor": 4
}
